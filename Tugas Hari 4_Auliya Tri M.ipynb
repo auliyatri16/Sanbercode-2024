{
 "cells": [
  {
   "cell_type": "markdown",
   "metadata": {
    "id": "a9HYUdCUsrKl"
   },
   "source": [
    "<h2>Soal 1: Comparison Operator</h2>\n",
    "\n",
    "- Berikan contoh comparison dari tipe data string\n",
    "- Berikan contoh comparison dari tipe data boolean\n",
    "- Berikan contoh comparison dari tipe data integer"
   ]
  },
  {
   "cell_type": "code",
   "execution_count": 1,
   "metadata": {
    "id": "fUFkFOt0afUL"
   },
   "outputs": [
    {
     "data": {
      "text/plain": [
       "False"
      ]
     },
     "execution_count": 1,
     "metadata": {},
     "output_type": "execute_result"
    }
   ],
   "source": [
    "#comparison dari tipe data string\n",
    "'benar' == 'Benar'"
   ]
  },
  {
   "cell_type": "code",
   "execution_count": 2,
   "metadata": {},
   "outputs": [
    {
     "data": {
      "text/plain": [
       "True"
      ]
     },
     "execution_count": 2,
     "metadata": {},
     "output_type": "execute_result"
    }
   ],
   "source": [
    "#comparison dari tipe data boolean\n",
    "'True' != 'False'"
   ]
  },
  {
   "cell_type": "code",
   "execution_count": 3,
   "metadata": {},
   "outputs": [
    {
     "data": {
      "text/plain": [
       "False"
      ]
     },
     "execution_count": 3,
     "metadata": {},
     "output_type": "execute_result"
    }
   ],
   "source": [
    "#comparison dari tipe data integer\n",
    "2 > 10"
   ]
  },
  {
   "cell_type": "markdown",
   "metadata": {
    "id": "XeywALwwhZn7"
   },
   "source": [
    "\n",
    "\n",
    "---\n",
    "\n",
    "\n",
    "\n",
    "---\n",
    "\n"
   ]
  },
  {
   "cell_type": "markdown",
   "metadata": {
    "id": "IbNoZvVssrK5"
   },
   "source": [
    "<h2>Soal 2: Boolean Comparison</h2>\n",
    "\n",
    "- Berikan contoh gabungan multiple comparison menggunkan Boolean Comparisin 'and'\n",
    "- Berikan contoh gabungan multiple comparison menggunkan Boolean Comparisin 'or'\n",
    "- Berikan contoh gabungan multiple comparison menggunkan Boolean Comparisin 'not'"
   ]
  },
  {
   "cell_type": "code",
   "execution_count": 4,
   "metadata": {
    "id": "M1mwGoegaiET"
   },
   "outputs": [
    {
     "data": {
      "text/plain": [
       "True"
      ]
     },
     "execution_count": 4,
     "metadata": {},
     "output_type": "execute_result"
    }
   ],
   "source": [
    "#Boolean Comparison 'and'\n",
    "3 < 10 and 5 > 3"
   ]
  },
  {
   "cell_type": "code",
   "execution_count": 5,
   "metadata": {},
   "outputs": [
    {
     "data": {
      "text/plain": [
       "True"
      ]
     },
     "execution_count": 5,
     "metadata": {},
     "output_type": "execute_result"
    }
   ],
   "source": [
    "#Boolean Comparison 'or'\n",
    "'suka' != 'Suka' or 'Sama' != 'sama'"
   ]
  },
  {
   "cell_type": "code",
   "execution_count": 8,
   "metadata": {},
   "outputs": [
    {
     "data": {
      "text/plain": [
       "False"
      ]
     },
     "execution_count": 8,
     "metadata": {},
     "output_type": "execute_result"
    }
   ],
   "source": [
    "#Boolean Comparison ' not'\n",
    "not (3 < 4)"
   ]
  },
  {
   "cell_type": "markdown",
   "metadata": {
    "id": "Y3ejsyvqhciI"
   },
   "source": [
    "\n",
    "\n",
    "---\n",
    "\n",
    "\n",
    "\n",
    "---\n",
    "\n"
   ]
  },
  {
   "cell_type": "markdown",
   "metadata": {
    "id": "Yp_g_sPMsrLH"
   },
   "source": [
    "<h2>Soal 3: If-Else Statement</h2>\n",
    "\n",
    "Lengkapi kode untuk menghasilkan suatu output yang di harapkan\n",
    "\n",
    "- Bualah sebuah if-else statement yang dimana akan mem-print 'High' jika grade adalah 'A' dan price lebih dari 100000, kemudian mem-print 'Medium' jika grade adalah 'A' dan price lebih dari 50000 dan memprint 'low' jika grade adalah 'A' dan price lebih kecil dan sama dengan 50000."
   ]
  },
  {
   "cell_type": "code",
   "execution_count": 12,
   "metadata": {
    "id": "2PPsaN50c9ew"
   },
   "outputs": [
    {
     "name": "stdout",
     "output_type": "stream",
     "text": [
      "Medium\n"
     ]
    }
   ],
   "source": [
    "#code here\n",
    "nilai = 50001           #untuk nilai ('A') dapat diganti sesuai dengan kondisi\n",
    "if nilai > 100000:\n",
    "    print ('High')    \n",
    "elif nilai > 50000:\n",
    "    print ('Medium')\n",
    "else:\n",
    "    print ('low')\n"
   ]
  },
  {
   "cell_type": "markdown",
   "metadata": {
    "id": "FkSxKlMNhfzn"
   },
   "source": [
    "\n",
    "\n",
    "---\n",
    "\n",
    "\n",
    "\n",
    "---\n",
    "\n"
   ]
  },
  {
   "cell_type": "markdown",
   "metadata": {
    "id": "IcoJXJT1srLW"
   },
   "source": [
    "<h2>Soal 4: Comparison Operator dengan fungsi</h2>\n",
    "\n",
    "Buatlah sebuah fungsi yang menerima satu argument bertipe data numeric dan menghasilkan sebuah return sebagai berikut :\n",
    "- menghasilkan return 'Aneh' jika nilai dari argument tersebut adalah bilangan ganjil\n",
    "- menghasilkan return 'Tidak Aneh' jika nilai dari argument tersebut adalah bilangan genap dan diantara nilai 2 sampai 5 (2 dan 5 termasuk)\n",
    "- menghasilkan return 'Aneh' jika nilai dari argument tersebut adalah bilangan genap dan diantara nilai 6 sampai 20 (6 dan 20 termasuk)\n",
    "- menghasilkan return 'Tidak Aneh' jika nilai dari argument tersebut adalah bilangan genap dan lebih besari dari 20"
   ]
  },
  {
   "cell_type": "code",
   "execution_count": 49,
   "metadata": {
    "id": "oGXGd_MhdH9D"
   },
   "outputs": [
    {
     "name": "stdout",
     "output_type": "stream",
     "text": [
      "Tidak Aneh\n"
     ]
    }
   ],
   "source": [
    "# Buat fungsi\n",
    "data = 4                                          #nilai data dapat diubah\n",
    "if data % 2 == 0 and data in range (2,5):         #data genap diantara 2 sampai 5\n",
    "    print ('Tidak Aneh')\n",
    "elif data % 2 == 0 and data in range (6,20):      #data genap diantara 6 sampai 20\n",
    "    print ('Aneh')\n",
    "elif data % 2 == 0 and data >20:                  #data genap lebih dari 20\n",
    "    print ('Tidak Aneh')\n",
    "else:\n",
    "    print ('Aneh')                                #data ganjil\n"
   ]
  },
  {
   "cell_type": "markdown",
   "metadata": {
    "id": "QxKrmLcchhvf"
   },
   "source": [
    "\n",
    "\n",
    "---\n",
    "\n",
    "\n",
    "\n",
    "---\n",
    "\n"
   ]
  },
  {
   "cell_type": "markdown",
   "metadata": {
    "id": "gf0D64xOsrLl"
   },
   "source": [
    "<h2>Soal 5: While Loop dan For Loop</h2>\n",
    "\n",
    "- Apa perbedaan while loop dan for loop?\n",
    "- Berikan contoh sederhana cara menggunakan while loop dan for loop"
   ]
  },
  {
   "cell_type": "markdown",
   "metadata": {
    "id": "cSrE7RbvdXWe"
   },
   "source": [
    "jawaban perbedaan\n",
    "While loop merupakan perulangan yang jumlah proses pengulangannya tidak ditentukan. Kode yang dijalankan dakan berjalan secara terus menerus apabila masih memenuhi ekspresi yang telah ditentukan sebelumnya.\n",
    "\n",
    "For loop merupakanperulangan untuk memproses array/himpunan. Perulangan for akan dijalankan sebanyak jumlah elemen yang ada di dalam variabel."
   ]
  },
  {
   "cell_type": "code",
   "execution_count": 21,
   "metadata": {
    "id": "RSf-gg-rdY35"
   },
   "outputs": [
    {
     "name": "stdout",
     "output_type": "stream",
     "text": [
      "1\n",
      "2\n",
      "3\n",
      "4\n"
     ]
    }
   ],
   "source": [
    "# jawaban contoh\n",
    "#while loop\n",
    "x = 1\n",
    "while x < 5:\n",
    "    print (x)\n",
    "    x += 1"
   ]
  },
  {
   "cell_type": "code",
   "execution_count": 23,
   "metadata": {},
   "outputs": [
    {
     "name": "stdout",
     "output_type": "stream",
     "text": [
      "basket\n",
      "tenis\n",
      "golf\n",
      "pingpong\n"
     ]
    }
   ],
   "source": [
    "#for loop\n",
    "bola = ['basket', 'tenis', 'golf', 'pingpong']\n",
    "for i in bola:\n",
    "    print (i)"
   ]
  },
  {
   "cell_type": "markdown",
   "metadata": {
    "id": "xJq6aaArhlDN"
   },
   "source": [
    "\n",
    "\n",
    "---\n",
    "\n",
    "\n",
    "\n",
    "---\n",
    "\n"
   ]
  },
  {
   "cell_type": "markdown",
   "metadata": {
    "id": "fZQpBGCgsrLz"
   },
   "source": [
    "<h2>Soal 6: While Loop</h2>\n",
    "    \n",
    "Buatlah sebuah code while loop sebagai berikut :\n",
    "- Buatlah suatu fungsi yang menerima satu input nilai numerik\n",
    "- Dalam fungsi, Buat sebuah while-loop dengan melakukan comparasi terhadap inputan tersebut, dimana looping/iterasi terus berjalan apabila nilai inputan tidak sama dengan 0\n",
    "- Dalam setiap iterasi update nilai variable inputan itu, jika input lebih dari 0, maka kurangi variabel tersebut sebesar 1, selain itu tambahkan 1\n",
    "- print nilai variable input dalam setiap awal iterasi"
   ]
  },
  {
   "cell_type": "code",
   "execution_count": 79,
   "metadata": {
    "id": "uc6N4UmedrU6"
   },
   "outputs": [
    {
     "name": "stdout",
     "output_type": "stream",
     "text": [
      "jika a= 10\n",
      "10\n",
      "9\n",
      "8\n",
      "7\n",
      "6\n",
      "5\n",
      "4\n",
      "3\n",
      "2\n",
      "1\n"
     ]
    }
   ],
   "source": [
    "a = 10                      #nilai a dapat diubah\n",
    "\n",
    "def fungsi_while(a):\n",
    "    while a != 0:\n",
    "        print (a)\n",
    "        a += -1\n",
    "    \n",
    "print('jika a= ' + str (a))\n",
    "\n",
    "fungsi_while (a)"
   ]
  },
  {
   "cell_type": "markdown",
   "metadata": {
    "id": "lKzngRrlsrMD"
   },
   "source": [
    "Expected Output:\n",
    "\n",
    "jika a = 10                           \n",
    "\n",
    "10                                   \n",
    "9                      \n",
    "8   \n",
    "7   \n",
    "6  \n",
    "5  \n",
    "4  \n",
    "3  \n",
    "2  \n",
    "1\n",
    "\n",
    "jika a = -10\n",
    "\n",
    "-10                                   \n",
    "-9                        \n",
    "-8  \n",
    "-7  \n",
    "-6  \n",
    "-5  \n",
    "-4  \n",
    "-3  \n",
    "-2  \n",
    "-1\n"
   ]
  },
  {
   "cell_type": "markdown",
   "metadata": {
    "id": "MhdhusMnhn8L"
   },
   "source": [
    "\n",
    "\n",
    "---\n",
    "\n",
    "\n",
    "\n",
    "---\n",
    "\n"
   ]
  },
  {
   "cell_type": "markdown",
   "metadata": {
    "id": "DnAUJ4TzgmOp"
   },
   "source": [
    "<h2>Soal 7: For Loop</h2>\n",
    "\n",
    "Lengkapi kode untuk menghasilkan suatu output yang diharapkan:\n",
    "\n",
    "\n",
    "\n",
    "\n",
    "\n",
    "*   Cari siswa mana saja yang memiliki nilai lebih dari sama dengan 80. Masukkan kedalam sebuah list. print hasilnya\n",
    "\n",
    "\n"
   ]
  },
  {
   "cell_type": "code",
   "execution_count": 163,
   "metadata": {
    "id": "aeuMIX8_hGCW"
   },
   "outputs": [
    {
     "name": "stdout",
     "output_type": "stream",
     "text": [
      "['Budi', 'Rudi', 'Leo']\n"
     ]
    }
   ],
   "source": [
    "data_siswa = [\n",
    "    {\n",
    "        \"nama\":\"Budi\",\n",
    "        \"nilai\": 90\n",
    "    },\n",
    "    {\n",
    "        \"nama\":\"Nina\",\n",
    "        \"nilai\": 78\n",
    "    },\n",
    "    {\n",
    "        \"nama\":\"Rudi\",\n",
    "        \"nilai\": 91\n",
    "    },\n",
    "    {\n",
    "        \"nama\":\"Olivia\",\n",
    "        \"nilai\": 76\n",
    "    },\n",
    "    {\n",
    "        \"nama\":\"Leo\",\n",
    "        \"nilai\": 80\n",
    "    },\n",
    "    {\n",
    "        \"nama\":\"Liam\",\n",
    "        \"nilai\": 67\n",
    "    },\n",
    "    {\n",
    "        \"nama\":\"Sheila\",\n",
    "        \"nilai\": 76\n",
    "    }\n",
    "]\n",
    "\n",
    "#code here\n",
    "nilai_terbaik=[]\n",
    "for k in data_siswa:\n",
    "    if k['nilai'] >= 80:\n",
    "        nilai_terbaik.append(k['nama'])\n",
    "print (nilai_terbaik)\n"
   ]
  },
  {
   "cell_type": "markdown",
   "metadata": {
    "id": "xIFJBG5PhL_5"
   },
   "source": [
    "Expected output:\n",
    "\n",
    "['Budi', 'Rudi', 'Leo']"
   ]
  },
  {
   "cell_type": "markdown",
   "metadata": {
    "id": "6qKCmZB0hqH9"
   },
   "source": [
    "\n",
    "\n",
    "---\n",
    "\n",
    "\n",
    "\n",
    "---\n",
    "\n"
   ]
  },
  {
   "cell_type": "markdown",
   "metadata": {
    "id": "IWg3Z_zZsrMG"
   },
   "source": [
    "<h2>Soal 8: For Loop Enumerate</h2>\n",
    "    \n",
    "Lengkapi kode untuk menghasilkan suatu output yang di harapkan:\n",
    "\n",
    "- Buatlah sebuah loop dengan mengiterasi sebuah objek list kemudian di kalikan dengan index dari list tersebut dan print hasilnya"
   ]
  },
  {
   "cell_type": "code",
   "execution_count": 11,
   "metadata": {
    "id": "wvxcRiq2gYS9"
   },
   "outputs": [
    {
     "name": "stdout",
     "output_type": "stream",
     "text": [
      "0\n",
      "16\n",
      "22\n",
      "30\n",
      "20\n"
     ]
    }
   ],
   "source": [
    "obj_list= [1, 16, 11, 10, 5]\n",
    "\n",
    "# lengkapi code di bawah\n",
    "for index, obj_list1 in enumerate(obj_list):\n",
    "    print(obj_list1 * index)"
   ]
  },
  {
   "cell_type": "markdown",
   "metadata": {
    "id": "OGawROjnsrMU"
   },
   "source": [
    "Expected Output:\n",
    "\n",
    "0\n",
    "\n",
    "16\n",
    "\n",
    "22\n",
    "\n",
    "30\n",
    "\n",
    "20\n"
   ]
  },
  {
   "cell_type": "markdown",
   "metadata": {
    "id": "BEaVi_Z5hror"
   },
   "source": [
    "\n",
    "\n",
    "---\n",
    "\n",
    "\n",
    "\n",
    "---\n",
    "\n"
   ]
  }
 ],
 "metadata": {
  "colab": {
   "collapsed_sections": [],
   "name": " Tugas Hari 4.ipynb",
   "provenance": []
  },
  "kernelspec": {
   "display_name": "Python 3 (ipykernel)",
   "language": "python",
   "name": "python3"
  },
  "language_info": {
   "codemirror_mode": {
    "name": "ipython",
    "version": 3
   },
   "file_extension": ".py",
   "mimetype": "text/x-python",
   "name": "python",
   "nbconvert_exporter": "python",
   "pygments_lexer": "ipython3",
   "version": "3.12.3"
  }
 },
 "nbformat": 4,
 "nbformat_minor": 4
}
