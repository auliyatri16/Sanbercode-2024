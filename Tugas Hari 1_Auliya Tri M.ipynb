{
 "cells": [
  {
   "cell_type": "markdown",
   "metadata": {
    "id": "37V7ZOpEwt-6"
   },
   "source": [
    "<h2>Soal 1: Hello World to Python</h2>\n",
    "    \n",
    "Print Say Hello World to Python"
   ]
  },
  {
   "cell_type": "code",
   "execution_count": 22,
   "metadata": {
    "id": "YCFjxzUwrIN-"
   },
   "outputs": [
    {
     "name": "stdout",
     "output_type": "stream",
     "text": [
      "Hello World Python\n"
     ]
    }
   ],
   "source": [
    "print ('Hello World Python')"
   ]
  },
  {
   "cell_type": "code",
   "execution_count": 21,
   "metadata": {},
   "outputs": [
    {
     "name": "stdout",
     "output_type": "stream",
     "text": [
      "Hello World Pyhton\n"
     ]
    }
   ],
   "source": [
    "pesan = 'Hello World Pyhton'\n",
    "print (pesan)"
   ]
  },
  {
   "cell_type": "markdown",
   "metadata": {
    "id": "fftihhaUwt_B"
   },
   "source": [
    "Expected Output : \n",
    "\n",
    "Hello World Python"
   ]
  },
  {
   "cell_type": "markdown",
   "metadata": {
    "id": "1aEipc1Swt_C"
   },
   "source": [
    "<h2>Soal 2: Aritmatika di Python </h2>\n",
    "    \n",
    "- Buat statement pertambahan antara 2 number di Python\n",
    "- Buat statement perkurangan antara 2 number di Python\n",
    "- Buat statement perkalian antara 2 number di Python\n",
    "- Buat statement pembagian antara 2 number di Python"
   ]
  },
  {
   "cell_type": "code",
   "execution_count": 17,
   "metadata": {},
   "outputs": [
    {
     "name": "stdout",
     "output_type": "stream",
     "text": [
      "7\n"
     ]
    }
   ],
   "source": [
    "pertambahan = 1+6\n",
    "print (pertambahan)"
   ]
  },
  {
   "cell_type": "code",
   "execution_count": 23,
   "metadata": {},
   "outputs": [
    {
     "name": "stdout",
     "output_type": "stream",
     "text": [
      "34\n"
     ]
    }
   ],
   "source": [
    "pengurangan = 99-65\n",
    "print (pengurangan)"
   ]
  },
  {
   "cell_type": "code",
   "execution_count": 24,
   "metadata": {},
   "outputs": [
    {
     "name": "stdout",
     "output_type": "stream",
     "text": [
      "3564\n"
     ]
    }
   ],
   "source": [
    "perkalian = 108*33\n",
    "print (perkalian)"
   ]
  },
  {
   "cell_type": "code",
   "execution_count": 25,
   "metadata": {},
   "outputs": [
    {
     "name": "stdout",
     "output_type": "stream",
     "text": [
      "64.0\n"
     ]
    }
   ],
   "source": [
    "pembagian = 512/8\n",
    "print (pembagian)"
   ]
  },
  {
   "cell_type": "markdown",
   "metadata": {
    "id": "DgUFNMtZwt_G"
   },
   "source": [
    "<h2>Quiz 3: Assign Variable dan Tipe Data Integer, Float </h2>\n",
    "\n",
    "- Buat suatu variabel a dan b, dimana a dan b adalah nilai bertipe data numeric\n",
    "- Berikan suatu nilai bertipe data integer, hasil pembagian dari a dengan b\n",
    "- Berikan suatu nilai bertipe data float, hasil pembagian dari a dengan b"
   ]
  },
  {
   "cell_type": "code",
   "execution_count": 31,
   "metadata": {
    "id": "Qf8wzMg5wt_H"
   },
   "outputs": [
    {
     "name": "stdout",
     "output_type": "stream",
     "text": [
      "2\n"
     ]
    },
    {
     "data": {
      "text/plain": [
       "int"
      ]
     },
     "execution_count": 31,
     "metadata": {},
     "output_type": "execute_result"
    }
   ],
   "source": [
    "#variabel\n",
    "a = 10  \n",
    "b = 5\n",
    "\n",
    "#nilai integer\n",
    "x = a//b\n",
    "print (x)\n",
    "type (x)"
   ]
  },
  {
   "cell_type": "code",
   "execution_count": 32,
   "metadata": {},
   "outputs": [
    {
     "name": "stdout",
     "output_type": "stream",
     "text": [
      "2.0\n"
     ]
    },
    {
     "data": {
      "text/plain": [
       "float"
      ]
     },
     "execution_count": 32,
     "metadata": {},
     "output_type": "execute_result"
    }
   ],
   "source": [
    "#variabel\n",
    "a = 10  \n",
    "b = 5\n",
    "\n",
    "#nilai float\n",
    "y = a/b\n",
    "print (y)\n",
    "type (y)"
   ]
  },
  {
   "cell_type": "markdown",
   "metadata": {
    "id": "XmjLgW7Zwt_L"
   },
   "source": [
    "<h2>Soal 4: String Operation </h2>\n",
    "\n",
    "- masukan nama depan kamu kedalam suatu variable firstname\n",
    "- masukan nama belakang kamu kedalam suatu variable lastname\n",
    "- tampilkan suatu kalimat 'Hello sanbercode, saya firstname lastname! saya siap belajar python data science dasar.'"
   ]
  },
  {
   "cell_type": "code",
   "execution_count": 14,
   "metadata": {},
   "outputs": [
    {
     "name": "stdout",
     "output_type": "stream",
     "text": [
      "Hello sanbercode, saya Auliya Tri! saya siap belajar python data science dasar.\n"
     ]
    }
   ],
   "source": [
    "firstname = 'Auliya'\n",
    "lastname = ' Tri'\n",
    "print('Hello sanbercode, saya ' + firstname  + lastname + '! ' + 'saya siap belajar python data science dasar.')"
   ]
  },
  {
   "cell_type": "markdown",
   "metadata": {
    "id": "0ROQJqBXwt_Q"
   },
   "source": [
    "Expected Output :\n",
    "\n",
    "Hello sanbercode, saya Afrida Hafizhatul Ulum! saya siap belajar python data science dasar."
   ]
  },
  {
   "cell_type": "markdown",
   "metadata": {
    "id": "9DaWI8xdwt_Q"
   },
   "source": [
    "<h2>Soal 5: Tipe Data</h2>\n",
    "\n",
    "Lengkapi code di bawah ini untuk menghasilkan output yang sesuai"
   ]
  },
  {
   "cell_type": "code",
   "execution_count": 20,
   "metadata": {
    "id": "wcDbgbjTwt_R"
   },
   "outputs": [
    {
     "name": "stdout",
     "output_type": "stream",
     "text": [
      "usiaku: 24 tahun\n"
     ]
    }
   ],
   "source": [
    "usia = 24\n",
    "kata = 'usiaku: '\n",
    "print(kata + str (usia) + ' tahun')"
   ]
  },
  {
   "cell_type": "markdown",
   "metadata": {
    "id": "wdVRjDoLwt_V"
   },
   "source": [
    "Expected Output : (sesuai usia masing-masing)\n",
    "\n",
    "usiaku: 28 tahun"
   ]
  }
 ],
 "metadata": {
  "colab": {
   "collapsed_sections": [],
   "name": "Tugas Hari 1.ipynb",
   "provenance": []
  },
  "kernelspec": {
   "display_name": "Python 3 (ipykernel)",
   "language": "python",
   "name": "python3"
  },
  "language_info": {
   "codemirror_mode": {
    "name": "ipython",
    "version": 3
   },
   "file_extension": ".py",
   "mimetype": "text/x-python",
   "name": "python",
   "nbconvert_exporter": "python",
   "pygments_lexer": "ipython3",
   "version": "3.12.3"
  }
 },
 "nbformat": 4,
 "nbformat_minor": 4
}
