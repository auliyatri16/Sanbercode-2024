{
 "cells": [
  {
   "cell_type": "markdown",
   "metadata": {
    "id": "I6jmLA-RYrt5"
   },
   "source": [
    "<h2>Soal 1: Helper Function</h2>\n",
    "\n",
    "Jawab Pertanyaan di bawah ini:\n",
    "\n",
    "Misalkan kamu ingin mengetahui tentang kegunaan fungsi 'len' di Python, maka fungsi apa yang bisa kamu gunakan untuk menolong kamu?"
   ]
  },
  {
   "cell_type": "code",
   "execution_count": 2,
   "metadata": {
    "id": "VrvyQxGJYrt9"
   },
   "outputs": [
    {
     "name": "stdout",
     "output_type": "stream",
     "text": [
      "Help on built-in function len in module builtins:\n",
      "\n",
      "len(obj, /)\n",
      "    Return the number of items in a container.\n",
      "\n",
      "None\n"
     ]
    }
   ],
   "source": [
    "#lengkapi code ini\n",
    "#fungsi yang dapat digunakan yaitu fungsi help. Fungsi ini dapat memahami \n",
    "#sebagian besar fungsi lainnya \n",
    "\n",
    "print (help(len))"
   ]
  },
  {
   "cell_type": "markdown",
   "metadata": {
    "id": "KrcuFTuAYruT"
   },
   "source": [
    "<h2>Soal 2: Built-in Function</h2>\n",
    "\n",
    "Jawab Pertanyaan di bawah ini:\n",
    "    \n",
    "Apa itu built-in Function?\n",
    "\n",
    "Sebutkan 3 built-in Function di pyhon!\n",
    "\n",
    "Berikan contoh masing2 1 cara penggunaan built-in function yang kamu sebutkan sebelumnya"
   ]
  },
  {
   "cell_type": "markdown",
   "metadata": {
    "id": "xro-58_CYruW"
   },
   "source": [
    "//isi jawaban text disini\n",
    "1.built-in function yaitu fungsi-fungsi yang telah tersedia dalam pemrograman python.\n",
    "2. a. Fungsi bin () yaitu fungsi yang digunakan untuk mengubah nilai integer (tipe data bilangan bulat) menjadi nilai string biner (bahasa komputer yang terdiri dari angka 0 dan 1)\n",
    "b. Fungsi bool () yaitu fungsi yang mengubah sebuah nilai menjadi nilai boolean (true or false) dan kebalikannya.\n",
    "c. Fungsi pow () yaitu fungsi yang digunakan untuk mendapatkan nilai pangkat suatu bilangan."
   ]
  },
  {
   "cell_type": "code",
   "execution_count": 8,
   "metadata": {
    "id": "Xv7lHkgfYruY"
   },
   "outputs": [
    {
     "name": "stdout",
     "output_type": "stream",
     "text": [
      "Nilai biner dari 22 yaitu 0b10110\n",
      "[1, 2, 3] adalah  True\n",
      "nilai dari 3 pangkat 2 adalah 9\n"
     ]
    }
   ],
   "source": [
    "# Contoh penggunaan built in function\n",
    "# fungsi built in bin\n",
    "angka=22\n",
    "print ('Nilai biner dari 22 yaitu', bin (22))\n",
    "\n",
    "#fungsi built in bool\n",
    "coba=[1,2,3]\n",
    "print (coba, 'adalah ' , bool(coba))  #fungsi mengatakan True karena terdapat nilai\n",
    "\n",
    "#fungsi built in pow\n",
    "print ('nilai dari 3 pangkat 2 adalah', pow(3,2))    #nilai dari 3 pangkat 2"
   ]
  },
  {
   "cell_type": "markdown",
   "metadata": {
    "id": "yhWXiPNDYrul"
   },
   "source": [
    "<h2>Soal 3: Method dan Function</h2>\n",
    "\n",
    "Jawab Pertanyaan di bawah ini:\n",
    "    \n",
    "- Apa perbedaan method dan function?"
   ]
  },
  {
   "cell_type": "markdown",
   "metadata": {
    "id": "rqpTJlgDYrun"
   },
   "source": [
    "Method merupakan fungsi yang memiliki keterkaitan terhadap objek tertentu (dependent). Contoh, pada saat menggunakaan objek 'list' dalam python kita bisa memanggil method seperti append (), remove (), dll. Sedangkan, fungsi merupakan blok kode yang digunakan untuk melakukan tugas tertentu (independent). Fungsi juga dapat digunakan berkali-kali dalam program. Contoh dari penggunaan fungsi dalam python yaitu menggunakan syntax def, kemudian dikembalikan dengan syntax return."
   ]
  },
  {
   "cell_type": "markdown",
   "metadata": {
    "id": "tUU1xgYBYrup"
   },
   "source": [
    "<h2>Soal 4: Menggunkan Method String</h2>\n",
    "\n",
    "Lengkapi kode untuk menghasilkan suatu output yang di harapkan"
   ]
  },
  {
   "cell_type": "code",
   "execution_count": 16,
   "metadata": {
    "id": "037gauOGYrur"
   },
   "outputs": [
    {
     "name": "stdout",
     "output_type": "stream",
     "text": [
      "AYO BELAJAR DATA SCIENCE\n",
      "5\n"
     ]
    }
   ],
   "source": [
    "kalimat = \"ayo belajar data science\"\n",
    "\n",
    "# gunakan method untuk mengubah nilai kalimat menjadi uppercase semua kemudian tampilkan hasilnya\n",
    "print (kalimat.upper())\n",
    "\n",
    "# gunakan method untuk menghitung berapa huruf a di dalam kalimat\n",
    "print (kalimat.count('a'))"
   ]
  },
  {
   "cell_type": "markdown",
   "metadata": {
    "id": "fPTd4R5VYru5"
   },
   "source": [
    "Expected Output:\n",
    "\n",
    "AYO BELAJAR DATA SCIENCE\n",
    "\n",
    "5"
   ]
  },
  {
   "cell_type": "markdown",
   "metadata": {
    "id": "IPjp5vwDYrvL"
   },
   "source": [
    "<h2>Soal 5: Membuat Simple Function</h2>\n",
    "\n",
    "Buatlah suatu fungsi yang menerima satu input argumen berbentuk list dan mempunyai elemen bertipe numeric semua, dimana fungsi tersebut berguna untuk menghitung rata2 dari kumpulan elemen list tersebut. namai fungsi tersebut 'mean_list'"
   ]
  },
  {
   "cell_type": "code",
   "execution_count": 62,
   "metadata": {
    "id": "5KZg_AJUF9sK"
   },
   "outputs": [
    {
     "name": "stdout",
     "output_type": "stream",
     "text": [
      "12.39\n"
     ]
    }
   ],
   "source": [
    "obj_list = [11.25, 18.0, 20.0, 10.75, 9.50, 13.45, 23.0, 7.0, 8.45, 2.50]\n",
    "\n",
    "def mean_list(inp_list):\n",
    "    return sum (obj_list) / len (obj_list)\n",
    "        \n",
    " \n",
    "print(mean_list(obj_list))"
   ]
  },
  {
   "cell_type": "markdown",
   "metadata": {
    "id": "MVAvoHHgYrva"
   },
   "source": [
    "Expected Output:\n",
    "\n",
    "12.39"
   ]
  },
  {
   "cell_type": "markdown",
   "metadata": {
    "id": "A8jjpNC8Yrvc"
   },
   "source": [
    "<h2>Soal 6: Membuat Function dengan Multiple arguments</h2>\n",
    "\n",
    "Buatlah suatu fungsi untuk melakukan penggabungan antara dua list "
   ]
  },
  {
   "cell_type": "code",
   "execution_count": 60,
   "metadata": {
    "id": "gMWsoMw7G4s4"
   },
   "outputs": [
    {
     "name": "stdout",
     "output_type": "stream",
     "text": [
      "[1, 2, 3, 4, 5, 6, 7]\n"
     ]
    }
   ],
   "source": [
    "obj_list = [1, 2, 3, 4]\n",
    "obj_penambah = [5, 6, 7]\n",
    "\n",
    "def kali_list(inp_list1, inp_list2):\n",
    "    return obj_list + obj_penambah\n",
    "\n",
    "print(kali_list(obj_list, obj_penambah))"
   ]
  },
  {
   "cell_type": "markdown",
   "metadata": {
    "id": "RYhU921kYrvp"
   },
   "source": [
    "Expected Output:\n",
    "\n",
    "\n",
    "[1, 2, 3, 4, 5, 6, 7]"
   ]
  },
  {
   "cell_type": "markdown",
   "metadata": {
    "id": "n4vXAQs4G9_s"
   },
   "source": [
    "# Soal 7. Mapping Fungsi lambda\n",
    "\n",
    "Hitunglah jumlah bilangan genap dari sebuah objek list berikut menggunakan lambda function"
   ]
  },
  {
   "cell_type": "code",
   "execution_count": 5,
   "metadata": {
    "id": "fKZSTDb9NdIZ"
   },
   "outputs": [
    {
     "name": "stdout",
     "output_type": "stream",
     "text": [
      "500\n"
     ]
    }
   ],
   "source": [
    "obj_list = [i for i in range(1000)]\n",
    "hasil = len(list(filter(lambda x: x%2 == 0, obj_list)))\n",
    "\n",
    "print(hasil)"
   ]
  },
  {
   "cell_type": "markdown",
   "metadata": {
    "id": "vEj-AttRNWuZ"
   },
   "source": [
    "Expected output:\n",
    "\n",
    "500"
   ]
  }
 ],
 "metadata": {
  "colab": {
   "collapsed_sections": [],
   "name": "Tugas Hari 3.ipynb",
   "provenance": []
  },
  "kernelspec": {
   "display_name": "Python 3 (ipykernel)",
   "language": "python",
   "name": "python3"
  },
  "language_info": {
   "codemirror_mode": {
    "name": "ipython",
    "version": 3
   },
   "file_extension": ".py",
   "mimetype": "text/x-python",
   "name": "python",
   "nbconvert_exporter": "python",
   "pygments_lexer": "ipython3",
   "version": "3.12.3"
  }
 },
 "nbformat": 4,
 "nbformat_minor": 4
}
